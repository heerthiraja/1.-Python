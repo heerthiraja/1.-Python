{
 "cells": [
  {
   "cell_type": "code",
   "execution_count": 2,
   "id": "ae8bd66d",
   "metadata": {},
   "outputs": [],
   "source": [
    "def ageCata():\n",
    "   age=int(input(\"Enter the age:\"))\n",
    "   if(age<=18):\n",
    "      print(\"Children\")\n",
    "   elif(age<=35):\n",
    "      print(\"Adult\")\n",
    "   elif(age<=59):\n",
    "      print(\"Citizen\")\n",
    "   else:\n",
    "      print(\"Senior Citizen\")"
   ]
  },
  {
   "cell_type": "code",
   "execution_count": 9,
   "id": "6a5d5215",
   "metadata": {},
   "outputs": [],
   "source": [
    "def addition():\n",
    "    num1=int(input(\"Enter the number 1:\"))\n",
    "    num2=int(input(\"enter the number 2:\"))\n",
    "    add=num1+num2\n",
    "    print(add)"
   ]
  }
 ],
 "metadata": {
  "kernelspec": {
   "display_name": "Python 3 (ipykernel)",
   "language": "python",
   "name": "python3"
  },
  "language_info": {
   "codemirror_mode": {
    "name": "ipython",
    "version": 3
   },
   "file_extension": ".py",
   "mimetype": "text/x-python",
   "name": "python",
   "nbconvert_exporter": "python",
   "pygments_lexer": "ipython3",
   "version": "3.9.12"
  }
 },
 "nbformat": 4,
 "nbformat_minor": 5
}
