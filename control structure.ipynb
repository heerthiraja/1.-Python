{
 "cells": [
  {
   "cell_type": "code",
   "execution_count": 2,
   "id": "c6a9fc0e",
   "metadata": {},
   "outputs": [
    {
     "name": "stdout",
     "output_type": "stream",
     "text": [
      "\n"
     ]
    }
   ],
   "source": [
    "if():\n",
    "    print()\n",
    "else:\n",
    "    print()"
   ]
  },
  {
   "cell_type": "markdown",
   "id": "adbe209c",
   "metadata": {},
   "source": [
    "# Syntax for if-else\n"
   ]
  },
  {
   "cell_type": "code",
   "execution_count": 4,
   "id": "69974843",
   "metadata": {},
   "outputs": [
    {
     "name": "stdout",
     "output_type": "stream",
     "text": [
      "enter the college name:JMC\n"
     ]
    }
   ],
   "source": [
    "collegename=input(\"enter the college name:\")"
   ]
  },
  {
   "cell_type": "code",
   "execution_count": 6,
   "id": "c7d8c405",
   "metadata": {},
   "outputs": [
    {
     "name": "stdout",
     "output_type": "stream",
     "text": [
      "placement and training\n"
     ]
    }
   ],
   "source": [
    "if(collegename==\"JMC\"):\n",
    "    print(\"placement and training\")\n",
    "else: \n",
    "    print(\"no placement and training\")\n",
    "    "
   ]
  },
  {
   "cell_type": "code",
   "execution_count": 10,
   "id": "5bdc65b3",
   "metadata": {},
   "outputs": [
    {
     "name": "stdout",
     "output_type": "stream",
     "text": [
      "enter the age:28\n",
      "Adult\n"
     ]
    }
   ],
   "source": [
    "age=int(input(\"enter the age:\"))\n",
    "if(age>=18):\n",
    "    print(\"Adult\")\n",
    "else:\n",
    "    print(\"Child\")\n",
    "    \n"
   ]
  },
  {
   "cell_type": "code",
   "execution_count": 3,
   "id": "8128c906",
   "metadata": {},
   "outputs": [
    {
     "name": "stdout",
     "output_type": "stream",
     "text": [
      "enter the age:2\n",
      "child\n"
     ]
    }
   ],
   "source": [
    "age=int(input(\"enter the age:\"))\n",
    "if(age>=18):\n",
    "    print(\"adult\")\n",
    "else:\n",
    "    print(\"child\")"
   ]
  },
  {
   "cell_type": "code",
   "execution_count": 4,
   "id": "faca47b3",
   "metadata": {},
   "outputs": [
    {
     "name": "stdout",
     "output_type": "stream",
     "text": [
      "enter the age:58\n",
      "adult\n"
     ]
    }
   ],
   "source": [
    "age=int(input(\"enter the age:\"))\n",
    "if(age>=18):\n",
    "    print(\"adult\")\n",
    "else:\n",
    "    print(\"child\")"
   ]
  },
  {
   "cell_type": "markdown",
   "id": "ba9897f1",
   "metadata": {},
   "source": [
    "# Syntax for if-elif"
   ]
  },
  {
   "cell_type": "code",
   "execution_count": 14,
   "id": "642577c9",
   "metadata": {},
   "outputs": [
    {
     "name": "stdout",
     "output_type": "stream",
     "text": [
      "enther the age45\n",
      "citizen\n"
     ]
    }
   ],
   "source": [
    "age=int(input(\"enther the age\"))\n",
    "if(age<=18):\n",
    "    print(\"child\")\n",
    "elif(age<=35):\n",
    "    print(\"adult\")\n",
    "elif(age<=60):\n",
    "    print(\"citizen\")\n",
    "elif(age<=100):\n",
    "    print(\"senior citizen\")"
   ]
  },
  {
   "cell_type": "code",
   "execution_count": 15,
   "id": "f607914b",
   "metadata": {},
   "outputs": [
    {
     "name": "stdout",
     "output_type": "stream",
     "text": [
      "enther the age75\n",
      "senior citizen\n"
     ]
    }
   ],
   "source": [
    "age=int(input(\"enther the age\"))\n",
    "if(age<=18):\n",
    "    print(\"child\")\n",
    "elif(age<=35):\n",
    "    print(\"adult\")\n",
    "elif(age<=60):\n",
    "    print(\"citizen\")\n",
    "elif(age<=100):\n",
    "    print(\"senior citizen\")"
   ]
  },
  {
   "cell_type": "markdown",
   "id": "04a2a481",
   "metadata": {},
   "source": [
    "# Syntax for \"Loop\""
   ]
  },
  {
   "cell_type": "code",
   "execution_count": 18,
   "id": "524cc2e8",
   "metadata": {},
   "outputs": [
    {
     "name": "stdout",
     "output_type": "stream",
     "text": [
      "0\n",
      "1\n",
      "2\n",
      "3\n",
      "4\n"
     ]
    }
   ],
   "source": [
    "for temp in range(0,5):\n",
    "    print(temp)"
   ]
  },
  {
   "cell_type": "code",
   "execution_count": 26,
   "id": "9ed0db0e",
   "metadata": {},
   "outputs": [],
   "source": [
    "list1=[\"Hope\",123,\"Welcome\",2022,\"AI\",\"jul12\"]"
   ]
  },
  {
   "cell_type": "code",
   "execution_count": 28,
   "id": "783344ab",
   "metadata": {},
   "outputs": [
    {
     "data": {
      "text/plain": [
       "'Hope'"
      ]
     },
     "execution_count": 28,
     "metadata": {},
     "output_type": "execute_result"
    }
   ],
   "source": [
    "list1[0]"
   ]
  },
  {
   "cell_type": "code",
   "execution_count": 30,
   "id": "ee3c18e3",
   "metadata": {},
   "outputs": [
    {
     "data": {
      "text/plain": [
       "'Welcome'"
      ]
     },
     "execution_count": 30,
     "metadata": {},
     "output_type": "execute_result"
    }
   ],
   "source": [
    "list1[2]"
   ]
  },
  {
   "cell_type": "code",
   "execution_count": 31,
   "id": "bbc50b61",
   "metadata": {},
   "outputs": [
    {
     "data": {
      "text/plain": [
       "'jul12'"
      ]
     },
     "execution_count": 31,
     "metadata": {},
     "output_type": "execute_result"
    }
   ],
   "source": [
    "list1[5]"
   ]
  },
  {
   "cell_type": "code",
   "execution_count": 34,
   "id": "4e86fb63",
   "metadata": {},
   "outputs": [
    {
     "name": "stdout",
     "output_type": "stream",
     "text": [
      "Hope\n",
      "123\n",
      "Welcome\n",
      "2022\n",
      "AI\n",
      "jul12\n"
     ]
    }
   ],
   "source": [
    "for temp in list1:\n",
    "    print(temp)"
   ]
  }
 ],
 "metadata": {
  "kernelspec": {
   "display_name": "Python 3 (ipykernel)",
   "language": "python",
   "name": "python3"
  },
  "language_info": {
   "codemirror_mode": {
    "name": "ipython",
    "version": 3
   },
   "file_extension": ".py",
   "mimetype": "text/x-python",
   "name": "python",
   "nbconvert_exporter": "python",
   "pygments_lexer": "ipython3",
   "version": "3.9.12"
  }
 },
 "nbformat": 4,
 "nbformat_minor": 5
}
