{
 "cells": [
  {
   "cell_type": "code",
   "execution_count": 1,
   "id": "0cb88ebd",
   "metadata": {},
   "outputs": [
    {
     "name": "stdout",
     "output_type": "stream",
     "text": [
      "Welcome to HOPE AI\n"
     ]
    }
   ],
   "source": [
    "print(\"Welcome to HOPE AI\")\n"
   ]
  },
  {
   "cell_type": "code",
   "execution_count": 9,
   "id": "93144d42",
   "metadata": {},
   "outputs": [
    {
     "name": "stdout",
     "output_type": "stream",
     "text": [
      "23\n"
     ]
    }
   ],
   "source": [
    "num1=5\n",
    "num2=7\n",
    "num3=11\n",
    "add=num1+num2+num3\n",
    "print(add)\n",
    "\n"
   ]
  },
  {
   "cell_type": "code",
   "execution_count": 14,
   "id": "62e6a2c0",
   "metadata": {},
   "outputs": [
    {
     "name": "stdout",
     "output_type": "stream",
     "text": [
      "mul of num1 and num2:\n",
      "135\n"
     ]
    }
   ],
   "source": [
    "Num1=45\n",
    "Num2=3\n",
    "mul= Num1*Num2\n",
    "print(\"mul of num1 and num2:\")\n",
    "print (mul)\n"
   ]
  },
  {
   "cell_type": "code",
   "execution_count": 22,
   "id": "89afb337",
   "metadata": {},
   "outputs": [
    {
     "name": "stdout",
     "output_type": "stream",
     "text": [
      "Welcome Ramisha to Hope AI\n",
      "Welcome heerthi to Hope AI\n",
      "Welcome siva to Hope AI\n"
     ]
    }
   ],
   "source": [
    "org=\"Hope AI\"\n",
    "name1=\"Ramisha\"\n",
    "name2=\"heerthi\"\n",
    "name3=\"siva\"\n",
    "print(\"Welcome\",name1,\"to\",org)\n",
    "print(\"Welcome\",name2,\"to\",org)\n",
    "print(\"Welcome\",name3,\"to\",org)"
   ]
  }
 ],
 "metadata": {
  "kernelspec": {
   "display_name": "Python 3 (ipykernel)",
   "language": "python",
   "name": "python3"
  },
  "language_info": {
   "codemirror_mode": {
    "name": "ipython",
    "version": 3
   },
   "file_extension": ".py",
   "mimetype": "text/x-python",
   "name": "python",
   "nbconvert_exporter": "python",
   "pygments_lexer": "ipython3",
   "version": "3.9.12"
  }
 },
 "nbformat": 4,
 "nbformat_minor": 5
}
